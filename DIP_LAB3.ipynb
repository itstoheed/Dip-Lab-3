{
 "cells": [
  {
   "cell_type": "code",
   "execution_count": 28,
   "id": "336caf78-3a03-441b-9ff7-60d793a91b57",
   "metadata": {},
   "outputs": [],
   "source": [
    "# DIP LAB 3 By Tauheed Hussain (137)"
   ]
  },
  {
   "cell_type": "code",
   "execution_count": 5,
   "id": "1f7d926f-5128-472f-8b23-1a740acd45ed",
   "metadata": {},
   "outputs": [
    {
     "name": "stdout",
     "output_type": "stream",
     "text": [
      "Defaulting to user installation because normal site-packages is not writeable\n",
      "Requirement already satisfied: Pillow in c:\\programdata\\anaconda3\\lib\\site-packages (10.3.0)\n",
      "Note: you may need to restart the kernel to use updated packages.\n"
     ]
    }
   ],
   "source": [
    "pip install Pillow"
   ]
  },
  {
   "cell_type": "code",
   "execution_count": 6,
   "id": "fe87206c-2c2d-4876-afc1-1dda75dabaf1",
   "metadata": {},
   "outputs": [
    {
     "name": "stdout",
     "output_type": "stream",
     "text": [
      "Defaulting to user installation because normal site-packages is not writeable\n",
      "Requirement already satisfied: opencv-python in c:\\users\\student\\appdata\\roaming\\python\\python312\\site-packages (4.10.0.84)\n",
      "Requirement already satisfied: numpy>=1.21.2 in c:\\programdata\\anaconda3\\lib\\site-packages (from opencv-python) (1.26.4)\n",
      "Note: you may need to restart the kernel to use updated packages.\n"
     ]
    }
   ],
   "source": [
    "pip install opencv-python"
   ]
  },
  {
   "cell_type": "code",
   "execution_count": 30,
   "id": "c3291301-96c2-4238-9fb1-5e080389a56c",
   "metadata": {},
   "outputs": [
    {
     "name": "stdout",
     "output_type": "stream",
     "text": [
      "Image Dimensions: 1600x900\n",
      "Number of Channels: 3\n"
     ]
    }
   ],
   "source": [
    "import cv2\n",
    "\n",
    "img = (r\"C:\\Users\\Student\\Desktop\\DIP\\Images\\image.png\")\n",
    "image = cv2.imread(img)\n",
    "\n",
    "height, width, channels = image.shape\n",
    "\n",
    "print(f\"Image Dimensions: {width}x{height}\")\n",
    "print(f\"Number of Channels: {channels}\")\n"
   ]
  },
  {
   "cell_type": "code",
   "execution_count": 32,
   "id": "e31e1a72-64cd-4903-8845-c355bb348e9c",
   "metadata": {},
   "outputs": [
    {
     "name": "stdout",
     "output_type": "stream",
     "text": [
      "File Size: 72922 bytes\n",
      "Date Created: 2024-09-26 12:47:07.715703\n",
      "Coding Method: PNG\n",
      "Bit Depth: 8 bits\n",
      "Image Dimensions: 1600x900\n"
     ]
    }
   ],
   "source": [
    "import cv2\n",
    "import os\n",
    "from datetime import datetime\n",
    "\n",
    "img = r\"C:\\Users\\Student\\Desktop\\DIP\\Images\\image.png\"\n",
    "image = cv2.imread(img)\n",
    "\n",
    "height, width, channels = image.shape\n",
    "file_size = os.path.getsize(img)\n",
    "coding_method = os.path.splitext(img)[-1][1:].upper()\n",
    "bit_depth = 8\n",
    "creation_time = os.path.getctime(img)\n",
    "date_created = datetime.fromtimestamp(creation_time)\n",
    "\n",
    "print(f\"File Size: {file_size} bytes\")\n",
    "print(f\"Date Created: {date_created}\")\n",
    "print(f\"Coding Method: {coding_method}\")\n",
    "print(f\"Bit Depth: {bit_depth} bits\")\n",
    "print(f\"Image Dimensions: {width}x{height}\")"
   ]
  },
  {
   "cell_type": "code",
   "execution_count": 10,
   "id": "c5f29aef-9fe1-4e36-a904-a3cb58f57e46",
   "metadata": {},
   "outputs": [],
   "source": [
    "# When you convert a double with values outside the range [0, 255] to uint8:\n",
    "# Clamping: Any value less than 0 is set to 0, and any value greater than 255 is set to 255.\n",
    "# This means the output will always fall within the valid range for uint8."
   ]
  },
  {
   "cell_type": "code",
   "execution_count": 34,
   "id": "13fba6da-7436-4fd1-bad3-39c55c15f022",
   "metadata": {},
   "outputs": [],
   "source": [
    "import cv2\n",
    "\n",
    "img = cv2.imread(r\"C:\\Users\\Student\\Desktop\\DIP\\Images\\image.png\", cv2.COLOR_BGR2GRAY)\n",
    "\n",
    "_, binarized_img = cv2.threshold(img, 127, 255, cv2.THRESH_BINARY)\n",
    "\n",
    "cv2.imshow(\"Original Image\", img)\n",
    "cv2.imshow(\"Binarized Image\", binarized_img)\n",
    "\n",
    "cv2.waitKey(0)\n",
    "cv2.destroyAllWindows()"
   ]
  },
  {
   "cell_type": "code",
   "execution_count": 12,
   "id": "ee8f15be-cac9-4d54-a360-2ae8111635aa",
   "metadata": {},
   "outputs": [
    {
     "name": "stdout",
     "output_type": "stream",
     "text": [
      "This is a three-channel image.\n"
     ]
    }
   ],
   "source": [
    "import cv2\n",
    "\n",
    "img = cv2.imread(r\"C:\\Users\\Student\\Desktop\\DIP\\Images\\image.png\")\n",
    "\n",
    "height, width, channels = img.shape\n",
    "\n",
    "if channels == 3:\n",
    "    print(\"This is a three-channel image.\")\n",
    "    gray_image = cv2.cvtColor(img, cv2.COLOR_BGR2GRAY)\n",
    "    _, binarized_img = cv2.threshold(gray_image, 127, 255, cv2.THRESH_BINARY)\n",
    "    cv2.imshow(\"Binarized Image\", binarized_img)\n",
    "    \n",
    "elif channels == 1:\n",
    "    print(\"This is a one-channel image.\")\n",
    "    cv2.imshow(\"Image\", img)\n",
    "\n",
    "cv2.waitKey(0)\n",
    "cv2.destroyAllWindows()"
   ]
  },
  {
   "cell_type": "code",
   "execution_count": 38,
   "id": "2d0e27e6-ac26-4e75-b33f-a56943600e67",
   "metadata": {},
   "outputs": [],
   "source": [
    "import cv2\n",
    "import numpy as np\n",
    "\n",
    "img = cv2.imread(r\"C:\\Users\\Student\\Desktop\\DIP\\Images\\image.png\")\n",
    "\n",
    "if img is None:\n",
    "    print(\"Error: Could not read the image.\")\n",
    "    exit()\n",
    "\n",
    "gray_img = cv2.cvtColor(img, cv2.COLOR_BGR2GRAY)\n",
    "\n",
    "height, width = gray_img.shape\n",
    "binarized_img = np.zeros((height, width), dtype=np.uint8)\n",
    "\n",
    "threshold = 127\n",
    "\n",
    "for i in range(height):\n",
    "    for j in range(width):\n",
    "        if gray_img[i, j] >= threshold:\n",
    "            binarized_img[i, j] = 255\n",
    "        else:\n",
    "            binarized_img[i, j] = 0\n",
    "\n",
    "cv2.imshow(\"Original Image\", img)\n",
    "cv2.imshow(\"Binarized Image\", binarized_img)\n",
    "\n",
    "cv2.waitKey(0)\n",
    "cv2.destroyAllWindows()"
   ]
  },
  {
   "cell_type": "code",
   "execution_count": 1,
   "id": "e9aab091-bd92-4de4-8b6d-228d73b8722a",
   "metadata": {},
   "outputs": [
    {
     "name": "stdout",
     "output_type": "stream",
     "text": [
      "Cannot open camera\n",
      "Can't receive frame (stream end?). Exiting ...\n"
     ]
    }
   ],
   "source": [
    "import numpy as np\n",
    "import cv2 as cv\n",
    " \n",
    "cap = cv.VideoCapture(0)\n",
    "if not cap.isOpened():\n",
    "    print(\"Cannot open camera\")\n",
    "    exit()\n",
    "while True:\n",
    "    ret, frame = cap.read()\n",
    " \n",
    "    if not ret:\n",
    "        print(\"Can't receive frame (stream end?). Exiting ...\")\n",
    "        break\n",
    "    gray = cv.cvtColor(frame, cv.COLOR_BGR2GRAY)\n",
    "    cv.imshow('frame', gray)\n",
    "    if cv.waitKey(1) == ord('q'):\n",
    "        break\n",
    " \n",
    "cap.release()\n",
    "cv.destroyAllWindows()"
   ]
  },
  {
   "cell_type": "code",
   "execution_count": null,
   "id": "877a64d2-b964-4e15-9313-f41635c16404",
   "metadata": {},
   "outputs": [],
   "source": []
  }
 ],
 "metadata": {
  "kernelspec": {
   "display_name": "Python 3 (ipykernel)",
   "language": "python",
   "name": "python3"
  },
  "language_info": {
   "codemirror_mode": {
    "name": "ipython",
    "version": 3
   },
   "file_extension": ".py",
   "mimetype": "text/x-python",
   "name": "python",
   "nbconvert_exporter": "python",
   "pygments_lexer": "ipython3",
   "version": "3.12.4"
  }
 },
 "nbformat": 4,
 "nbformat_minor": 5
}
